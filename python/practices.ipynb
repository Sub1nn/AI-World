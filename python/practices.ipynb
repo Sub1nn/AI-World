{
 "cells": [
  {
   "cell_type": "code",
   "execution_count": 1,
   "id": "90ef3d54",
   "metadata": {},
   "outputs": [
    {
     "name": "stdout",
     "output_type": "stream",
     "text": [
      "[1, 2, 3, 4, 5]\n",
      "[10, 2, 3, 4, 5]\n",
      "[10, 2, 30, 4, 5]\n",
      "[10, 2, 30, 4, 5]\n",
      "[100, 2, 30, 4, 5]\n"
     ]
    }
   ],
   "source": [
    "array = [1, 2, 3, 4, 5]\n",
    "arr = array\n",
    "print(arr)  # Output: [1, 2, 3, 4, 5]\n",
    "arr[0] = 10\n",
    "print(array)  # Output: [10, 2, 3, 4, 5]    \n",
    "array[2] = 30\n",
    "print(arr)  # Output: [10, 2, 30, 4, 5]\n",
    "arr1 = array.copy() # Create a separate copy\n",
    "arr1[0] = 100\n",
    "print(array)  # Output: [10, 2, 30, 4, 5]\n",
    "print(arr1)  # Output: [100, 2, 30, 4, 5]\n",
    "# arr1 is a separate copy, changes to it do not affect array"
   ]
  },
  {
   "cell_type": "code",
   "execution_count": 3,
   "id": "e37fa09f",
   "metadata": {},
   "outputs": [
    {
     "name": "stdout",
     "output_type": "stream",
     "text": [
      "Running the function: do_this\n",
      "Doing this...\n",
      "Completed the function call.\n",
      "Running the function: do_that\n",
      "Doing that...\n",
      "Completed the function call.\n"
     ]
    }
   ],
   "source": [
    "## Wrapper functions @ decorators\n",
    "# Decorators are a way to modify or enhance functions or methods without changing their code. \n",
    "# They allow you to wrap another function, adding functionality before or after the wrapped function runs.\n",
    "\n",
    "def my_decorator(func):\n",
    "    def wrapper():\n",
    "        print(f\"Running the function: {func.__name__}\")\n",
    "        func()\n",
    "        print(\"Completed the function call.\")\n",
    "    return wrapper\n",
    "\n",
    "@my_decorator\n",
    "def do_this():\n",
    "    print(\"Doing this...\")\n",
    "\n",
    "@my_decorator\n",
    "def do_that():\n",
    "    print(\"Doing that...\")\n",
    "\n",
    "do_this()  # Output: Before the function call, Doing this..., After the function call\n",
    "do_that()  # Output: Before the function call, Doing that..., After the function call\n",
    "\n",
    "\n",
    "     "
   ]
  },
  {
   "cell_type": "code",
   "execution_count": 6,
   "id": "12f9a494",
   "metadata": {},
   "outputs": [
    {
     "name": "stdout",
     "output_type": "stream",
     "text": [
      "0 1\n",
      "1 2\n",
      "2 3\n",
      "3 4\n",
      "4 5\n"
     ]
    }
   ],
   "source": [
    "arr = [1, 2, 3, 4, 5]\n",
    "'''for i in len(arr):\n",
    "    print(arr[i])''' \n",
    "# The above code will raise a TypeError because 'len(arr)' returns an integer, as len(arr) is 5, \n",
    "# and integers are not iterable. so basically its like for i in 5 which is incorrect. \n",
    "# The correct way to iterate over the indices of the array is:\n",
    "for i in range(len(arr)):\n",
    "    print(i, arr[i])\n",
    "# The corrected code uses 'range(len(arr))' to generate a sequence of indices from 0 to len(arr)-1,\n",
    "# allowing us to access each element of the array using its index.\n",
    "# i is the index, so you access elements as arr[i]"
   ]
  },
  {
   "cell_type": "code",
   "execution_count": 5,
   "id": "2db9bbde",
   "metadata": {},
   "outputs": [
    {
     "name": "stdout",
     "output_type": "stream",
     "text": [
      "10\n",
      "20\n",
      "30\n"
     ]
    }
   ],
   "source": [
    "# for i in x:\n",
    "# Iterates directly over the elements of x.\n",
    "# i is each element in x itself, not an index.\n",
    "\n",
    "x = [10, 20, 30]\n",
    "for i in x:\n",
    "    print(i)  # Outputs: 10, then 20, then 30"
   ]
  },
  {
   "cell_type": "code",
   "execution_count": 7,
   "id": "783dcad2",
   "metadata": {},
   "outputs": [
    {
     "name": "stdout",
     "output_type": "stream",
     "text": [
      "0 10\n",
      "1 20\n",
      "2 30\n"
     ]
    }
   ],
   "source": [
    "### Enumerate (x)\n",
    "# Enumerate adds a counter to an iterable and returns it as an enumerate object.\n",
    "# If you want both the index and the value while iterating, you can use enumerate:\n",
    "x = [10, 20, 30]\n",
    "for index, value in enumerate(x):\n",
    "    print(index, value)  # Outputs: (0, 10), then (1, 20), then (2, 30)"
   ]
  },
  {
   "cell_type": "markdown",
   "id": "e3038c9c",
   "metadata": {},
   "source": [
    "| Syntax                         | What `i` is        | Typical use                   |\n",
    "| ------------------------------ | ------------------ | ----------------------------- |\n",
    "| `for i in x`                   | element (10,20,30) | When you only need the values |\n",
    "| `for i in len(x)`              | ❌ error            | Never used (invalid)          |\n",
    "| `for i in range(len(x))`       | index (0,1,2)      | When you need indices         |\n",
    "| `for idx, val in enumerate(x)` | index + element    | Cleaner way for both          |\n"
   ]
  },
  {
   "cell_type": "code",
   "execution_count": null,
   "id": "5c4ba16c",
   "metadata": {},
   "outputs": [
    {
     "name": "stdout",
     "output_type": "stream",
     "text": [
      "[2, 4]\n"
     ]
    }
   ],
   "source": [
    "# Modifying a list while iterating over it can cause unexpected behavior because the iteration index and the list contents get out of sync.\n",
    "arr = [1, 2, 3, 4, 5]\n",
    "for i in arr:\n",
    "    arr.remove(i)\n",
    "print(arr)"
   ]
  },
  {
   "cell_type": "code",
   "execution_count": 4,
   "id": "aefb8c7c",
   "metadata": {},
   "outputs": [
    {
     "name": "stdout",
     "output_type": "stream",
     "text": [
      "[]\n"
     ]
    }
   ],
   "source": [
    "# If you want to safely remove items while iterating, you should iterate over a copy of the list:\n",
    "arr = [1, 2, 3, 4, 5]\n",
    "for i in arr[:]:  # Iterate over a shallow copy of the list\n",
    "    arr.remove(i)\n",
    "print(arr)  "
   ]
  }
 ],
 "metadata": {
  "kernelspec": {
   "display_name": "base",
   "language": "python",
   "name": "python3"
  },
  "language_info": {
   "codemirror_mode": {
    "name": "ipython",
    "version": 3
   },
   "file_extension": ".py",
   "mimetype": "text/x-python",
   "name": "python",
   "nbconvert_exporter": "python",
   "pygments_lexer": "ipython3",
   "version": "3.13.5"
  }
 },
 "nbformat": 4,
 "nbformat_minor": 5
}

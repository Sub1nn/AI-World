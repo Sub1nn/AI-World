{
 "cells": [
  {
   "cell_type": "code",
   "execution_count": 46,
   "id": "db24dfdd",
   "metadata": {},
   "outputs": [
    {
     "name": "stderr",
     "output_type": "stream",
     "text": [
      "[nltk_data] Downloading package punkt to /Users/subin/nltk_data...\n",
      "[nltk_data]   Package punkt is already up-to-date!\n",
      "[nltk_data] Downloading package stopwords to /Users/subin/nltk_data...\n",
      "[nltk_data]   Package stopwords is already up-to-date!\n",
      "[nltk_data] Downloading package wordnet to /Users/subin/nltk_data...\n",
      "[nltk_data]   Package wordnet is already up-to-date!\n"
     ]
    },
    {
     "data": {
      "text/plain": [
       "True"
      ]
     },
     "execution_count": 46,
     "metadata": {},
     "output_type": "execute_result"
    }
   ],
   "source": [
    "# Import libraries\n",
    "import pandas as pd\n",
    "import nltk\n",
    "from nltk.corpus import stopwords\n",
    "from nltk.tokenize import word_tokenize\n",
    "from nltk.stem import WordNetLemmatizer\n",
    "from sklearn.feature_extraction.text import TfidfVectorizer\n",
    "from sklearn.naive_bayes import MultinomialNB\n",
    "from sklearn.metrics import accuracy_score, classification_report, confusion_matrix, ConfusionMatrixDisplay\n",
    "import matplotlib.pyplot as plt\n",
    "import re\n",
    "\n",
    "# Download NLTK data\n",
    "nltk.download('punkt')\n",
    "nltk.download('stopwords')\n",
    "nltk.download('wordnet')"
   ]
  },
  {
   "cell_type": "code",
   "execution_count": 47,
   "id": "7087d82e",
   "metadata": {},
   "outputs": [
    {
     "name": "stdout",
     "output_type": "stream",
     "text": [
      "Training data shape: (74682, 4)\n",
      "Test data shape: (1000, 4)\n",
      "     id        topic sentiment  \\\n",
      "0  2401  Borderlands  Positive   \n",
      "1  2401  Borderlands  Positive   \n",
      "2  2401  Borderlands  Positive   \n",
      "3  2401  Borderlands  Positive   \n",
      "4  2401  Borderlands  Positive   \n",
      "\n",
      "                                                text  \n",
      "0  im getting on borderlands and i will murder yo...  \n",
      "1  I am coming to the borders and I will kill you...  \n",
      "2  im getting on borderlands and i will kill you ...  \n",
      "3  im coming on borderlands and i will murder you...  \n",
      "4  im getting on borderlands 2 and i will murder ...  \n"
     ]
    }
   ],
   "source": [
    "# Load the datasets\n",
    "train_df = pd.read_csv('../datasets/twitter_dataset/twitter_training.csv', header=None)\n",
    "test_df = pd.read_csv('../datasets/twitter_dataset/twitter_validation.csv', header=None)\n",
    "\n",
    "# Set column names\n",
    "train_df.columns = ['id', 'topic', 'sentiment', 'text']\n",
    "test_df.columns = ['id', 'topic', 'sentiment', 'text']\n",
    "\n",
    "print(\"Training data shape:\", train_df.shape)\n",
    "print(\"Test data shape:\", test_df.shape)\n",
    "print(train_df.head())"
   ]
  },
  {
   "cell_type": "code",
   "execution_count": 48,
   "id": "a0242e94",
   "metadata": {},
   "outputs": [
    {
     "name": "stdout",
     "output_type": "stream",
     "text": [
      "Sentiment values in training data:\n",
      "sentiment\n",
      "Negative      22542\n",
      "Positive      20832\n",
      "Neutral       18318\n",
      "Irrelevant    12990\n",
      "Name: count, dtype: int64\n",
      "\n",
      "Sentiment values in test data:\n",
      "sentiment\n",
      "Neutral       285\n",
      "Positive      277\n",
      "Negative      266\n",
      "Irrelevant    172\n",
      "Name: count, dtype: int64\n"
     ]
    }
   ],
   "source": [
    "# Check sentiment distribution\n",
    "print(\"Sentiment values in training data:\")\n",
    "print(train_df['sentiment'].value_counts())\n",
    "\n",
    "print(\"\\nSentiment values in test data:\")\n",
    "print(test_df['sentiment'].value_counts())"
   ]
  },
  {
   "cell_type": "code",
   "execution_count": 49,
   "id": "3557ac9c",
   "metadata": {},
   "outputs": [
    {
     "name": "stdout",
     "output_type": "stream",
     "text": [
      "After filtering:\n",
      "Training data: 43374\n",
      "Test data: 543\n"
     ]
    }
   ],
   "source": [
    "# Keep only positive and negative sentiments for binary classification\n",
    "train_df = train_df[train_df['sentiment'].isin(['Positive', 'Negative'])]\n",
    "test_df = test_df[test_df['sentiment'].isin(['Positive', 'Negative'])]\n",
    "\n",
    "print(\"After filtering:\")\n",
    "print(\"Training data:\", len(train_df))\n",
    "print(\"Test data:\", len(test_df))"
   ]
  },
  {
   "cell_type": "code",
   "execution_count": 50,
   "id": "2af17460",
   "metadata": {},
   "outputs": [
    {
     "name": "stdout",
     "output_type": "stream",
     "text": [
      "Example:\n",
      "Original: I love my life! @user https://subin.com\n",
      "Cleaned: love life\n"
     ]
    }
   ],
   "source": [
    "# Initialize lemmatizer and stopwords\n",
    "lemmatizer = WordNetLemmatizer()\n",
    "stop_words = set(stopwords.words('english'))\n",
    "\n",
    "def clean_text(text):\n",
    "    # Convert to lowercase\n",
    "    text = str(text).lower()\n",
    "    \n",
    "    # Remove links and mentions\n",
    "    text = re.sub(r'http\\S+', '', text)\n",
    "    text = re.sub(r'@\\w+', '', text)\n",
    "    \n",
    "    # Remove punctuation and numbers\n",
    "    text = re.sub(r'[^a-zA-Z\\s]', '', text)\n",
    "    \n",
    "    # Tokenize\n",
    "    tokens = word_tokenize(text)\n",
    "    \n",
    "    # Remove stopwords and lemmatize\n",
    "    cleaned_tokens = []\n",
    "    for token in tokens:\n",
    "        if token not in stop_words and len(token) > 2:\n",
    "            cleaned_tokens.append(lemmatizer.lemmatize(token))\n",
    "    \n",
    "    return ' '.join(cleaned_tokens)\n",
    "\n",
    "# Test the function\n",
    "print(\"Example:\")\n",
    "sample = \"I love my life! @user https://subin.com\"\n",
    "print(\"Original:\", sample)\n",
    "print(\"Cleaned:\", clean_text(sample))"
   ]
  },
  {
   "cell_type": "code",
   "execution_count": 51,
   "id": "fc9b00f7",
   "metadata": {},
   "outputs": [
    {
     "name": "stdout",
     "output_type": "stream",
     "text": [
      "Data after cleaning:\n",
      "Training: 42346\n",
      "Test: 542\n",
      "\n",
      "Examples of cleaned text:\n",
      "Original: im getting on borderlands and i will murder you all ,\n",
      "Cleaned: getting borderland murder\n",
      "\n",
      "Original: I am coming to the borders and I will kill you all,\n",
      "Cleaned: coming border kill\n",
      "\n",
      "Original: im getting on borderlands and i will kill you all,\n",
      "Cleaned: getting borderland kill\n",
      "\n"
     ]
    }
   ],
   "source": [
    "# Clean the text data\n",
    "train_df['clean_text'] = train_df['text'].apply(clean_text)\n",
    "test_df['clean_text'] = test_df['text'].apply(clean_text)\n",
    "\n",
    "# Remove empty texts\n",
    "train_df = train_df[train_df['clean_text'].str.len() > 0]\n",
    "test_df = test_df[test_df['clean_text'].str.len() > 0]\n",
    "\n",
    "print(\"Data after cleaning:\")\n",
    "print(\"Training:\", len(train_df))\n",
    "print(\"Test:\", len(test_df))\n",
    "\n",
    "# Show examples -> first 3 samples\n",
    "print(\"\\nExamples of cleaned text:\")\n",
    "for i in range(3):\n",
    "    print(f\"Original: {train_df['text'].iloc[i]}\")\n",
    "    print(f\"Cleaned: {train_df['clean_text'].iloc[i]}\")\n",
    "    print()"
   ]
  },
  {
   "cell_type": "code",
   "execution_count": 52,
   "id": "37c03e72",
   "metadata": {},
   "outputs": [
    {
     "name": "stdout",
     "output_type": "stream",
     "text": [
      "Final data:\n",
      "X_train: 42346\n",
      "y_train: 42346\n",
      "X_test: 542\n",
      "y_test: 542\n",
      "\n",
      "Label distribution:\n",
      "Training: {0: 22043, 1: 20303}\n",
      "Test: {1: 277, 0: 265}\n"
     ]
    }
   ],
   "source": [
    "# Convert sentiments to numbers\n",
    "train_df['label'] = train_df['sentiment'].map({'Positive': 1, 'Negative': 0})\n",
    "test_df['label'] = test_df['sentiment'].map({'Positive': 1, 'Negative': 0})\n",
    "\n",
    "# Prepare X and y\n",
    "X_train = train_df['clean_text']\n",
    "y_train = train_df['label']\n",
    "X_test = test_df['clean_text']\n",
    "y_test = test_df['label']\n",
    "\n",
    "print(\"Final data:\")\n",
    "print(f\"X_train: {len(X_train)}\")\n",
    "print(f\"y_train: {len(y_train)}\")\n",
    "print(f\"X_test: {len(X_test)}\")\n",
    "print(f\"y_test: {len(y_test)}\")\n",
    "\n",
    "print(\"\\nLabel distribution:\")\n",
    "print(\"Training:\", y_train.value_counts().to_dict())\n",
    "print(\"Test:\", y_test.value_counts().to_dict())"
   ]
  },
  {
   "cell_type": "code",
   "execution_count": 53,
   "id": "4b11af11",
   "metadata": {},
   "outputs": [
    {
     "name": "stdout",
     "output_type": "stream",
     "text": [
      "TF-IDF vectors created\n",
      "Training shape: (42346, 5000)\n",
      "Test shape: (542, 5000)\n"
     ]
    }
   ],
   "source": [
    "# Create TF-IDF vectors\n",
    "vectorizer = TfidfVectorizer(max_features=5000)\n",
    "X_train_tfidf = vectorizer.fit_transform(X_train)\n",
    "X_test_tfidf = vectorizer.transform(X_test)\n",
    "\n",
    "print(\"TF-IDF vectors created\")\n",
    "print(\"Training shape:\", X_train_tfidf.shape)\n",
    "print(\"Test shape:\", X_test_tfidf.shape)"
   ]
  },
  {
   "cell_type": "code",
   "execution_count": 54,
   "id": "64d93fd9",
   "metadata": {},
   "outputs": [
    {
     "name": "stdout",
     "output_type": "stream",
     "text": [
      "Model trained successfully!\n"
     ]
    }
   ],
   "source": [
    "# Train the MultinomialNB Naive Bayes model\n",
    "model = MultinomialNB()\n",
    "model.fit(X_train_tfidf, y_train)\n",
    "\n",
    "print(\"Model trained successfully!\")"
   ]
  },
  {
   "cell_type": "code",
   "execution_count": 55,
   "id": "95b46c4a",
   "metadata": {},
   "outputs": [
    {
     "name": "stdout",
     "output_type": "stream",
     "text": [
      "Accuracy: 0.889\n"
     ]
    }
   ],
   "source": [
    "# Predict on test data\n",
    "y_pred = model.predict(X_test_tfidf)\n",
    "\n",
    "# Calculate accuracy\n",
    "accuracy = accuracy_score(y_test, y_pred)\n",
    "print(f\"Accuracy: {accuracy:.3f}\")"
   ]
  },
  {
   "cell_type": "code",
   "execution_count": 59,
   "id": "112ead0d",
   "metadata": {},
   "outputs": [
    {
     "name": "stdout",
     "output_type": "stream",
     "text": [
      "Classification Report:\n",
      "              precision    recall  f1-score   support\n",
      "\n",
      "    Negative       0.88      0.90      0.89       265\n",
      "    Positive       0.90      0.88      0.89       277\n",
      "\n",
      "    accuracy                           0.89       542\n",
      "   macro avg       0.89      0.89      0.89       542\n",
      "weighted avg       0.89      0.89      0.89       542\n",
      "\n"
     ]
    },
    {
     "data": {
      "image/png": "[encoded data removed]",
      "text/plain": [
       "<Figure size 640x480 with 2 Axes>"
      ]
     },
     "metadata": {},
     "output_type": "display_data"
    }
   ],
   "source": [
    "# Show results\n",
    "print(\"Classification Report:\")\n",
    "print(classification_report(y_test, y_pred, target_names=['Negative', 'Positive']))\n",
    "\n",
    "# Confusion matrix\n",
    "cm = confusion_matrix(y_test, y_pred)\n",
    "disp = ConfusionMatrixDisplay(confusion_matrix=cm, display_labels=['Negative', 'Positive'])\n",
    "disp.plot(cmap=plt.cm.Blues)\n",
    "plt.title('Twitter Sentiment Analysis - Confusion Matrix')\n",
    "plt.show()\n"
   ]
  },
  {
   "cell_type": "code",
   "execution_count": 57,
   "id": "7f5d809c",
   "metadata": {},
   "outputs": [
    {
     "name": "stdout",
     "output_type": "stream",
     "text": [
      "Testing new tweets:\n",
      "'I love this movie!' -> Positive\n",
      "'This is terrible' -> Negative\n",
      "'Best day ever!' -> Positive\n",
      "'I hate waiting in traffic' -> Negative\n"
     ]
    }
   ],
   "source": [
    "# Function to predict sentiment of new text\n",
    "def predict_sentiment(text):\n",
    "    cleaned = clean_text(text)\n",
    "    vector = vectorizer.transform([cleaned])\n",
    "    prediction = model.predict(vector)[0]\n",
    "    return \"Positive\" if prediction == 1 else \"Negative\"\n",
    "\n",
    "# Test with sample tweets\n",
    "test_tweets = [\n",
    "    \"I love this movie!\",\n",
    "    \"This is terrible\",\n",
    "    \"Best day ever!\",\n",
    "    \"I hate waiting in traffic\"\n",
    "]\n",
    "\n",
    "print(\"Testing new tweets:\")\n",
    "for tweet in test_tweets:\n",
    "    result = predict_sentiment(tweet)\n",
    "    print(f\"'{tweet}' -> {result}\")"
   ]
  },
  {
   "cell_type": "code",
   "execution_count": 58,
   "id": "99c39b24",
   "metadata": {},
   "outputs": [
    {
     "data": {
      "image/png": "[encoded data removed]",
      "text/plain": [
       "<Figure size 800x500 with 2 Axes>"
      ]
     },
     "metadata": {},
     "output_type": "display_data"
    },
    {
     "name": "stdout",
     "output_type": "stream",
     "text": [
      "Final Accuracy: 88.9%\n"
     ]
    }
   ],
   "source": [
    "# Plot accuracy\n",
    "import matplotlib.pyplot as plt\n",
    "\n",
    "labels = ['Negative', 'Positive']\n",
    "values = [cm[0,0]+cm[1,0], cm[0,1]+cm[1,1]]\n",
    "\n",
    "plt.figure(figsize=(8, 5))\n",
    "plt.subplot(1, 2, 1)\n",
    "plt.bar(labels, values, color=['red', 'green'])\n",
    "plt.title('Sentiment Distribution in Test Data')\n",
    "\n",
    "plt.subplot(1, 2, 2)\n",
    "correct = [cm[0,0], cm[1,1]]\n",
    "plt.bar(labels, correct, color=['red', 'green'], alpha=0.7)\n",
    "plt.title('Correctly Predicted')\n",
    "plt.tight_layout()\n",
    "plt.show()\n",
    "\n",
    "print(f\"Final Accuracy: {accuracy:.1%}\")"
   ]
  }
 ],
 "metadata": {
  "kernelspec": {
   "display_name": "base",
   "language": "python",
   "name": "python3"
  },
  "language_info": {
   "codemirror_mode": {
    "name": "ipython",
    "version": 3
   },
   "file_extension": ".py",
   "mimetype": "text/x-python",
   "name": "python",
   "nbconvert_exporter": "python",
   "pygments_lexer": "ipython3",
   "version": "3.13.5"
  }
 },
 "nbformat": 4,
 "nbformat_minor": 5
}

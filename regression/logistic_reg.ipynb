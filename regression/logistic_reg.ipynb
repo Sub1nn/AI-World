{
 "cells": [
  {
   "cell_type": "code",
   "execution_count": 1,
   "id": "d080773c",
   "metadata": {},
   "outputs": [],
   "source": [
    "# [1]: Importing necessary libraries\n",
    "import numpy as np\n",
    "import pandas as pd\n",
    "import matplotlib.pyplot as plt\n",
    "import seaborn as sns\n",
    "from sklearn.model_selection import train_test_split\n",
    "from sklearn.preprocessing import StandardScaler\n",
    "from sklearn.linear_model import LogisticRegression\n",
    "from sklearn.metrics import accuracy_score, confusion_matrix, classification_report"
   ]
  },
  {
   "cell_type": "code",
   "execution_count": 2,
   "id": "534e71d6",
   "metadata": {},
   "outputs": [],
   "source": [
    "# [2]: Generate synthetic dataset\n",
    "from sklearn.datasets import make_classification\n",
    "\n",
    "# make_classification generates a synthetic dataset with given parameters\n",
    "# n_samples: Number of data points\n",
    "# n_features: Number of input features\n",
    "# random_state: Ensures reproducibility\n",
    "data, labels = make_classification(n_samples=1000, n_features=5, random_state=42)"
   ]
  },
  {
   "cell_type": "code",
   "execution_count": 3,
   "id": "9c2def6b",
   "metadata": {},
   "outputs": [],
   "source": [
    "# [3]: Convert to DataFrame for better visualization\n",
    "df = pd.DataFrame(data, columns=[f'Feature_{i}' for i in range(1, 6)])\n",
    "df['Label'] = labels"
   ]
  },
  {
   "cell_type": "code",
   "execution_count": 4,
   "id": "2ad2cff8",
   "metadata": {},
   "outputs": [
    {
     "data": {
      "text/html": [
       "<div>\n",
       "<style scoped>\n",
       "    .dataframe tbody tr th:only-of-type {\n",
       "        vertical-align: middle;\n",
       "    }\n",
       "\n",
       "    .dataframe tbody tr th {\n",
       "        vertical-align: top;\n",
       "    }\n",
       "\n",
       "    .dataframe thead th {\n",
       "        text-align: right;\n",
       "    }\n",
       "</style>\n",
       "<table border=\"1\" class=\"dataframe\">\n",
       "  <thead>\n",
       "    <tr style=\"text-align: right;\">\n",
       "      <th></th>\n",
       "      <th>Feature_1</th>\n",
       "      <th>Feature_2</th>\n",
       "      <th>Feature_3</th>\n",
       "      <th>Feature_4</th>\n",
       "      <th>Feature_5</th>\n",
       "      <th>Label</th>\n",
       "    </tr>\n",
       "  </thead>\n",
       "  <tbody>\n",
       "    <tr>\n",
       "      <th>0</th>\n",
       "      <td>-0.439643</td>\n",
       "      <td>0.542547</td>\n",
       "      <td>-0.822420</td>\n",
       "      <td>0.401366</td>\n",
       "      <td>-0.854840</td>\n",
       "      <td>0</td>\n",
       "    </tr>\n",
       "    <tr>\n",
       "      <th>1</th>\n",
       "      <td>2.822231</td>\n",
       "      <td>-2.480859</td>\n",
       "      <td>-1.147691</td>\n",
       "      <td>-2.101131</td>\n",
       "      <td>3.040278</td>\n",
       "      <td>1</td>\n",
       "    </tr>\n",
       "    <tr>\n",
       "      <th>2</th>\n",
       "      <td>1.618386</td>\n",
       "      <td>-1.369478</td>\n",
       "      <td>-2.084113</td>\n",
       "      <td>-1.179659</td>\n",
       "      <td>1.613602</td>\n",
       "      <td>1</td>\n",
       "    </tr>\n",
       "    <tr>\n",
       "      <th>3</th>\n",
       "      <td>1.659048</td>\n",
       "      <td>-0.615202</td>\n",
       "      <td>1.112688</td>\n",
       "      <td>-0.835098</td>\n",
       "      <td>-0.272205</td>\n",
       "      <td>1</td>\n",
       "    </tr>\n",
       "    <tr>\n",
       "      <th>4</th>\n",
       "      <td>1.849824</td>\n",
       "      <td>-1.679456</td>\n",
       "      <td>-0.926698</td>\n",
       "      <td>-1.402509</td>\n",
       "      <td>2.123129</td>\n",
       "      <td>1</td>\n",
       "    </tr>\n",
       "  </tbody>\n",
       "</table>\n",
       "</div>"
      ],
      "text/plain": [
       "   Feature_1  Feature_2  Feature_3  Feature_4  Feature_5  Label\n",
       "0  -0.439643   0.542547  -0.822420   0.401366  -0.854840      0\n",
       "1   2.822231  -2.480859  -1.147691  -2.101131   3.040278      1\n",
       "2   1.618386  -1.369478  -2.084113  -1.179659   1.613602      1\n",
       "3   1.659048  -0.615202   1.112688  -0.835098  -0.272205      1\n",
       "4   1.849824  -1.679456  -0.926698  -1.402509   2.123129      1"
      ]
     },
     "execution_count": 4,
     "metadata": {},
     "output_type": "execute_result"
    }
   ],
   "source": [
    "# [4]: Display the first few rows of the DataFrame\n",
    "df.head()"
   ]
  },
  {
   "cell_type": "code",
   "execution_count": 5,
   "id": "fc16aa98",
   "metadata": {},
   "outputs": [],
   "source": [
    "X_train, X_test, y_train, y_test = train_test_split(data, labels, test_size=0.2, random_state=42)"
   ]
  },
  {
   "cell_type": "code",
   "execution_count": 6,
   "id": "202898c0",
   "metadata": {},
   "outputs": [
    {
     "name": "stdout",
     "output_type": "stream",
     "text": [
      "Accuracy: 0.89\n",
      "Confusion Matrix:\n",
      "[[90  7]\n",
      " [16 87]]\n"
     ]
    }
   ],
   "source": [
    "# Standardizing the data\n",
    "\n",
    "'''\n",
    "Standardization is essential for logistic regression because it ensures that all features contribute equally to the model. Since features may have different scales, standardization transforms them to have a mean of 0 and a standard deviation of 1. this helps in faster convergence and prevents dominance of features with larger scales over smaller ones.\n",
    "'''\n",
    "scalar = StandardScaler()\n",
    "X_train = scalar.fit_transform(X_train)\n",
    "X_test = scalar.transform(X_test)\n",
    "# [5]: Initialize and train the logistic regression model\n",
    "model = LogisticRegression()\n",
    "model.fit(X_train, y_train)     \n",
    "# [6]: Make predictions on the test set\n",
    "y_pred = model.predict(X_test)      \n",
    "# [7]: Evaluate the model's performance\n",
    "accuracy = accuracy_score(y_test, y_pred)\n",
    "print(f\"Accuracy: {accuracy:.2f}\")  \n",
    "# [8]: confusion matrix \n",
    "conf_matrix = confusion_matrix(y_test, y_pred)\n",
    "print(\"Confusion Matrix:\")\n",
    "print(conf_matrix) "
   ]
  },
  {
   "cell_type": "code",
   "execution_count": 7,
   "id": "4d092fa1",
   "metadata": {},
   "outputs": [
    {
     "name": "stdout",
     "output_type": "stream",
     "text": [
      "\n",
      "True Negatives (TN): 90\n",
      "False Positives (FP): 7\n",
      "False Negatives (FN): 16\n",
      "True Positives (TP): 87\n"
     ]
    }
   ],
   "source": [
    "# Extract tn, fp, fn, tp from the confusion matrix\n",
    "tn, fp, fn, tp = conf_matrix.ravel()\n",
    "print(f\"\\nTrue Negatives (TN): {tn}\")\n",
    "print(f\"False Positives (FP): {fp}\")\n",
    "print(f\"False Negatives (FN): {fn}\")\n",
    "print(f\"True Positives (TP): {tp}\")"
   ]
  },
  {
   "cell_type": "code",
   "execution_count": 8,
   "id": "b2513f50",
   "metadata": {},
   "outputs": [
    {
     "name": "stdout",
     "output_type": "stream",
     "text": [
      "\n",
      "Class 1 metrics:\n",
      "Precision = TP / (TP + FP) = 87 / (87 + 7) = 0.93\n",
      "Recall    = TP / (TP + FN) = 87 / (87 + 16) = 0.84\n",
      "F1 Score  = 2 * (Precision * Recall) / (Precision + Recall) = 2 * (0.93 * 0.84) / (0.93 + 0.84) = 0.88\n",
      "\n",
      "Class 0 metrics:\n",
      "Precision = TN / (TN + FN) = 90 / (90 + 16) = 0.85\n",
      "Recall    = TN / (TN + FP) = 90 / (90 + 7) = 0.93\n",
      "F1 Score  = 2 * (Precision * Recall) / (Precision + Recall) = 2 * (0.85 * 0.93) / (0.85 + 0.93) = 0.89\n",
      "\n",
      "Classification Report:\n",
      "              precision    recall  f1-score   support\n",
      "\n",
      "           0       0.85      0.93      0.89        97\n",
      "           1       0.93      0.84      0.88       103\n",
      "\n",
      "    accuracy                           0.89       200\n",
      "   macro avg       0.89      0.89      0.88       200\n",
      "weighted avg       0.89      0.89      0.88       200\n",
      "\n"
     ]
    }
   ],
   "source": [
    "# Calculate metrics using the formulas and show the calculation steps\n",
    "\n",
    "# For class 1 (positive class)\n",
    "precision_1 = tp / (tp + fp) if (tp + fp) > 0 else 0\n",
    "recall_1 = tp / (tp + fn) if (tp + fn) > 0 else 0\n",
    "f1_1 = 2 * (precision_1 * recall_1) / (precision_1 + recall_1) if (precision_1 + recall_1) > 0 else 0\n",
    "\n",
    "# For class 0 (treat class 0 as positive)\n",
    "precision_0 = tn / (tn + fn) if (tn + fn) > 0 else 0\n",
    "recall_0 = tn / (tn + fp) if (tn + fp) > 0 else 0\n",
    "f1_0 = 2 * (precision_0 * recall_0) / (precision_0 + recall_0) if (precision_0 + recall_0) > 0 else 0\n",
    "\n",
    "print(f\"\\nClass 1 metrics:\")\n",
    "print(f\"Precision = TP / (TP + FP) = {tp} / ({tp} + {fp}) = {precision_1:.2f}\")\n",
    "print(f\"Recall    = TP / (TP + FN) = {tp} / ({tp} + {fn}) = {recall_1:.2f}\")\n",
    "print(f\"F1 Score  = 2 * (Precision * Recall) / (Precision + Recall) = 2 * ({precision_1:.2f} * {recall_1:.2f}) / ({precision_1:.2f} + {recall_1:.2f}) = {f1_1:.2f}\")\n",
    "\n",
    "print(f\"\\nClass 0 metrics:\")\n",
    "print(f\"Precision = TN / (TN + FN) = {tn} / ({tn} + {fn}) = {precision_0:.2f}\")\n",
    "print(f\"Recall    = TN / (TN + FP) = {tn} / ({tn} + {fp}) = {recall_0:.2f}\")\n",
    "print(f\"F1 Score  = 2 * (Precision * Recall) / (Precision + Recall) = 2 * ({precision_0:.2f} * {recall_0:.2f}) / ({precision_0:.2f} + {recall_0:.2f}) = {f1_0:.2f}\")\n",
    "\n",
    "# classification report\n",
    "print(\"\\nClassification Report:\")\n",
    "print(classification_report(y_test, y_pred))"
   ]
  },
  {
   "cell_type": "code",
   "execution_count": 9,
   "id": "70fd90b1",
   "metadata": {},
   "outputs": [
    {
     "data": {
      "image/png": "[encoded data removed]",
      "text/plain": [
       "<Figure size 800x600 with 2 Axes>"
      ]
     },
     "metadata": {},
     "output_type": "display_data"
    }
   ],
   "source": [
    "# [9]: Visualize the confusion matrix\n",
    "plt.figure(figsize=(8, 6))\n",
    "sns.heatmap(conf_matrix, annot=True, fmt='d', cmap='Blues',\n",
    "            xticklabels=['Class 0', 'Class 1'], yticklabels=['Class 0', 'Class 1'])\n",
    "plt.title('Confusion Matrix')\n",
    "plt.xlabel('Predicted Label')\n",
    "plt.ylabel('True Label')\n",
    "plt.show()"
   ]
  },
  {
   "cell_type": "code",
   "execution_count": null,
   "id": "a33bf59b",
   "metadata": {},
   "outputs": [
    {
     "name": "stdout",
     "output_type": "stream",
     "text": [
      "Accuracy with Regularization: 0.885\n"
     ]
    }
   ],
   "source": [
    "# Regularized logistic regression\n",
    "# Regularization helps prevent overfitting by adding a penalty to the loss function.\n",
    "# Here, we use L2 regularization (Ridge) with a small penalty term.\n",
    "model = LogisticRegression(penalty='l2', C=0.4, solver='lbfgs')\n",
    "model.fit(X_train, y_train)\n",
    "print('Accuracy with Regularization:', accuracy_score(y_test, model.predict(X_test)))"
   ]
  },
  {
   "cell_type": "code",
   "execution_count": 11,
   "id": "88f90730",
   "metadata": {},
   "outputs": [
    {
     "name": "stdout",
     "output_type": "stream",
     "text": [
      "Predictions on Test Set: [1 0 1 1 0 0 1 0 0 1]\n"
     ]
    }
   ],
   "source": [
    "# Making predictions on the test dataset\n",
    "test_predictions = model.predict(X_test)\n",
    "print('Predictions on Test Set:', test_predictions[:10])  # Displaying only the first few predictions"
   ]
  },
  {
   "cell_type": "code",
   "execution_count": null,
   "id": "7204243c",
   "metadata": {},
   "outputs": [
    {
     "name": "stdout",
     "output_type": "stream",
     "text": [
      "Prediction for Example Features: 1\n"
     ]
    }
   ],
   "source": [
    "### Inference for example features\n",
    "example_features = np.array([[0.5, -1.2, 1.3, 0.7, -0.5]])  # Example features\n",
    "example_features_scaled = scalar.transform(example_features)  # Apply Standardization\n",
    "# Making prediction\n",
    "Inference_prediction = model.predict(example_features_scaled)\n",
    "print('Prediction for Example Features:', Inference_prediction[0])  # Displaying the prediction for the example features\n"
   ]
  }
 ],
 "metadata": {
  "kernelspec": {
   "display_name": "base",
   "language": "python",
   "name": "python3"
  },
  "language_info": {
   "codemirror_mode": {
    "name": "ipython",
    "version": 3
   },
   "file_extension": ".py",
   "mimetype": "text/x-python",
   "name": "python",
   "nbconvert_exporter": "python",
   "pygments_lexer": "ipython3",
   "version": "3.13.5"
  }
 },
 "nbformat": 4,
 "nbformat_minor": 5
}

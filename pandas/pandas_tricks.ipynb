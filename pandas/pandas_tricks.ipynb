{
 "cells": [
  {
   "cell_type": "code",
   "execution_count": 36,
   "id": "8616552d",
   "metadata": {},
   "outputs": [
    {
     "name": "stdout",
     "output_type": "stream",
     "text": [
      "name      Bimala\n",
      "height       3.7\n",
      "weight        63\n",
      "Name: 1, dtype: object\n",
      "75\n",
      "     name  height  weight\n",
      "0   Subin     2.5      54\n",
      "1  Bimala     3.7      63\n",
      "2    Raju     5.4      75\n"
     ]
    }
   ],
   "source": [
    "import pandas as pd\n",
    "column = ['Subin', 'Bimala', 'Raju']\n",
    "titled_column = {'name': column} # now the column list falss under name\n",
    "titled_column = {'name': column, 'height': [2.5,3.7,5.4], 'weight': [54, 63, 75]}\n",
    "data = pd.DataFrame(titled_column)\n",
    "select_column = data['weight'][2]\n",
    "select_row = data.iloc[1] # iloc represents row, provide the index of the row you wanna extract\n",
    "print(select_row)\n",
    "print(select_column)\n",
    "print(data)"
   ]
  },
  {
   "cell_type": "code",
   "execution_count": 37,
   "id": "69183be4",
   "metadata": {},
   "outputs": [
    {
     "name": "stdout",
     "output_type": "stream",
     "text": [
      "63\n"
     ]
    }
   ],
   "source": [
    "import pandas as pd\n",
    "column = ['Subin', 'Bimala', 'Raju']\n",
    "titled_column = {'name': column} # now the column list falss under name\n",
    "titled_column = {'name': column, 'height': [2.5,3.7,5.4], 'weight': [54, 63, 75]}\n",
    "data = pd.DataFrame(titled_column)\n",
    "select_row = data.iloc[1]['weight'] # extract just the weight of 1st index\n",
    "print(select_row)"
   ]
  },
  {
   "cell_type": "code",
   "execution_count": 38,
   "id": "c0a45023",
   "metadata": {},
   "outputs": [
    {
     "name": "stdout",
     "output_type": "stream",
     "text": [
      "     name  height  weight       bmi\n",
      "0   Subin     2.5      54  8.640000\n",
      "1  Bimala     3.7      63  4.601899\n",
      "2    Raju     5.4      75  2.572016\n"
     ]
    }
   ],
   "source": [
    "# manipulate dataframe values\n",
    "bmi = []\n",
    "# weight/(height**2)\n",
    "for i in range(len(data)):\n",
    "    bmi_index = data['weight'][i]/(data['height'][i]**2)\n",
    "    bmi.append(bmi_index)\n",
    "data['bmi'] = bmi\n",
    "print(data)"
   ]
  },
  {
   "cell_type": "code",
   "execution_count": 39,
   "id": "30d680dc",
   "metadata": {},
   "outputs": [],
   "source": [
    "# save dataframe to a file\n",
    "# index = False removes unnecessary indexing\n",
    "data.to_csv('bmi.csv', index = False, sep='\\t') # use tab as data seperator(default is comma)"
   ]
  },
  {
   "cell_type": "code",
   "execution_count": 40,
   "id": "a1f1bc7e",
   "metadata": {},
   "outputs": [
    {
     "name": "stdout",
     "output_type": "stream",
     "text": [
      "   id   name    address       college  age gender faculty university  \\\n",
      "0   1    ram  kathmandu          ncit   18      m      IT         TU   \n",
      "1   2  shyam   lalitpur     islington   20      m    CSIT         KU   \n",
      "2   4   sita  kathmandu  ioe pulchowk   24      f      CE         KU   \n",
      "3   3   gita    pokhara          ncit   21      f      SE         KU   \n",
      "4   5   hari  kathmandu  ioe pulchowk   24      m   CIVIL         KU   \n",
      "5   6  madan    pokhara          ncit   21      f      SE         KU   \n",
      "6   7   maya  kathmandu     islington   24      f     BIT         KU   \n",
      "\n",
      "    occupation  \n",
      "0  clg-student  \n",
      "1  clg-student  \n",
      "2  clg-student  \n",
      "3  clg-student  \n",
      "4  clg-student  \n",
      "5  clg-student  \n",
      "6  clg-student  \n",
      "     name  height  weight       bmi\n",
      "0   Subin     2.5      54  8.640000\n",
      "1  Bimala     3.7      63  4.601899\n",
      "2    Raju     5.4      75  2.572016\n"
     ]
    }
   ],
   "source": [
    "import pandas as pd\n",
    "import sqlite3\n",
    "connection = sqlite3.connect('students.sqlite3')\n",
    "data = pd.read_csv('bmi.csv', sep='\\t')\n",
    "sql_data = pd.read_sql('select * from student', connection)\n",
    "print(sql_data)\n",
    "print(data)"
   ]
  },
  {
   "cell_type": "code",
   "execution_count": 41,
   "id": "fc852911",
   "metadata": {},
   "outputs": [
    {
     "name": "stdout",
     "output_type": "stream",
     "text": [
      "      name\n",
      "0  student\n"
     ]
    }
   ],
   "source": [
    "# if unsure of table names, run the following\n",
    "tables = pd.read_sql(\"select name from sqlite_master where type = 'table';\", connection)\n",
    "print(tables)"
   ]
  },
  {
   "cell_type": "code",
   "execution_count": 42,
   "id": "0ff7a9ca",
   "metadata": {},
   "outputs": [
    {
     "name": "stdout",
     "output_type": "stream",
     "text": [
      "   id   name    address    college  age gender faculty university   occupation\n",
      "0   1    ram  kathmandu       ncit   18      m      IT         TU  clg-student\n",
      "1   2  shyam   lalitpur  islington   20      m    CSIT         KU  clg-student\n"
     ]
    }
   ],
   "source": [
    "print(sql_data.head(2)) # print the first 2 data "
   ]
  },
  {
   "cell_type": "code",
   "execution_count": 43,
   "id": "41f41d1e",
   "metadata": {},
   "outputs": [
    {
     "name": "stdout",
     "output_type": "stream",
     "text": [
      "   id   name    address       college  age gender faculty university  \\\n",
      "2   4   sita  kathmandu  ioe pulchowk   24      f      CE         KU   \n",
      "3   3   gita    pokhara          ncit   21      f      SE         KU   \n",
      "4   5   hari  kathmandu  ioe pulchowk   24      m   CIVIL         KU   \n",
      "5   6  madan    pokhara          ncit   21      f      SE         KU   \n",
      "6   7   maya  kathmandu     islington   24      f     BIT         KU   \n",
      "\n",
      "    occupation  \n",
      "2  clg-student  \n",
      "3  clg-student  \n",
      "4  clg-student  \n",
      "5  clg-student  \n",
      "6  clg-student  \n"
     ]
    }
   ],
   "source": [
    "print(sql_data.tail())"
   ]
  },
  {
   "cell_type": "code",
   "execution_count": 44,
   "id": "d1cdca34",
   "metadata": {},
   "outputs": [
    {
     "name": "stdout",
     "output_type": "stream",
     "text": [
      "   id  name    address       college  age gender faculty university  \\\n",
      "0   1   ram  kathmandu          ncit   18      m      IT         TU   \n",
      "2   4  sita  kathmandu  ioe pulchowk   24      f      CE         KU   \n",
      "4   5  hari  kathmandu  ioe pulchowk   24      m   CIVIL         KU   \n",
      "6   7  maya  kathmandu     islington   24      f     BIT         KU   \n",
      "\n",
      "    occupation  \n",
      "0  clg-student  \n",
      "2  clg-student  \n",
      "4  clg-student  \n",
      "6  clg-student  \n"
     ]
    }
   ],
   "source": [
    "import pandas as pd\n",
    "import sqlite3\n",
    "connection = sqlite3.connect('students.sqlite3')\n",
    "data = pd.read_csv('bmi.csv', sep='\\t')\n",
    "sql_data = pd.read_sql('select * from student', connection)\n",
    "# filter data\n",
    "filtered_row = sql_data[sql_data['address'] == 'kathmandu'] # access all data where address is kathmandu\n",
    "print(filtered_row)"
   ]
  },
  {
   "cell_type": "code",
   "execution_count": 45,
   "id": "2ff4c741",
   "metadata": {},
   "outputs": [
    {
     "name": "stdout",
     "output_type": "stream",
     "text": [
      "   id   name   address       college  age gender faculty university  \\\n",
      "0   1    ram       KTM          ncit   18      m      IT         TU   \n",
      "1   2  shyam  lalitpur     islington   20      m    CSIT         KU   \n",
      "2   4   sita       KTM  ioe pulchowk   24      f      CE         KU   \n",
      "3   3   gita   pokhara          ncit   21      f      SE         KU   \n",
      "4   5   hari       KTM  ioe pulchowk   24      m   CIVIL         KU   \n",
      "5   6  madan   pokhara          ncit   21      f      SE         KU   \n",
      "6   7   maya       KTM     islington   24      f     BIT         KU   \n",
      "\n",
      "    occupation  \n",
      "0  clg-student  \n",
      "1  clg-student  \n",
      "2  clg-student  \n",
      "3  clg-student  \n",
      "4  clg-student  \n",
      "5  clg-student  \n",
      "6  clg-student  \n"
     ]
    }
   ],
   "source": [
    "# replace data\n",
    "replaced_city = sql_data.replace('kathmandu', 'KTM')\n",
    "print(replaced_city)"
   ]
  },
  {
   "cell_type": "code",
   "execution_count": 46,
   "id": "9a06cf9b",
   "metadata": {},
   "outputs": [
    {
     "name": "stdout",
     "output_type": "stream",
     "text": [
      "   id   name    address       college  age gender faculty university  \\\n",
      "1   2  shyam   lalitpur     islington   20      m    CSIT         KU   \n",
      "2   4   sita  kathmandu  ioe pulchowk   24      f      CE         KU   \n",
      "\n",
      "    occupation  \n",
      "1  clg-student  \n",
      "2  clg-student  \n",
      "   id   name    address       college  age faculty university\n",
      "0   1    ram  kathmandu          ncit   18      IT         TU\n",
      "1   2  shyam   lalitpur     islington   20    CSIT         KU\n",
      "2   4   sita  kathmandu  ioe pulchowk   24      CE         KU\n",
      "3   3   gita    pokhara          ncit   21      SE         KU\n",
      "4   5   hari  kathmandu  ioe pulchowk   24   CIVIL         KU\n",
      "5   6  madan    pokhara          ncit   21      SE         KU\n",
      "6   7   maya  kathmandu     islington   24     BIT         KU\n"
     ]
    },
    {
     "data": {
      "text/plain": [
       "' \\nThe drop() function can be used to remove:\\n\\nRows → axis=0 (default)\\n\\nColumns → axis=1 (must be explicitly stated)\\n'"
      ]
     },
     "execution_count": 46,
     "metadata": {},
     "output_type": "execute_result"
    }
   ],
   "source": [
    "# remove data\n",
    "remove_column = sql_data.drop('occupation', axis=1)\n",
    "remove_column = sql_data.drop(['occupation', 'gender'], axis=1) # remove multiple colums using list\n",
    "remove_row = sql_data.iloc[1:3] # only selects row indices 1 and 2\n",
    "print(remove_row)\n",
    "print(remove_column)\n",
    "''' \n",
    "The drop() function can be used to remove:\n",
    "\n",
    "Rows → axis=0 (default)\n",
    "\n",
    "Columns → axis=1 (must be explicitly stated)\n",
    "'''"
   ]
  },
  {
   "cell_type": "code",
   "execution_count": 47,
   "id": "bded55b0",
   "metadata": {},
   "outputs": [
    {
     "name": "stdout",
     "output_type": "stream",
     "text": [
      "zsh:1: unknown sort specifier\n",
      "    id   name    address       college   age gender faculty university  \\\n",
      "0  1.0    ram  kathmandu          ncit  18.0      m      IT         TU   \n",
      "1  2.0  shyam   lalitpur     islington  20.0      m    CSIT         KU   \n",
      "2  4.0   sita  kathmandu  ioe pulchowk  24.0      f      CE         KU   \n",
      "3  3.0   gita    pokhara          ncit  21.0      f      SE         KU   \n",
      "4  5.0   hari  kathmandu  ioe pulchowk  24.0      m   CIVIL         KU   \n",
      "5  6.0  madan    pokhara          ncit  21.0      f      SE         KU   \n",
      "6  7.0   maya  kathmandu     islington  24.0      f     BIT         KU   \n",
      "7  NaN  Subin    Finland          CCRC   NaN    NaN     NaN        NaN   \n",
      "\n",
      "    occupation  \n",
      "0  clg-student  \n",
      "1  clg-student  \n",
      "2  clg-student  \n",
      "3  clg-student  \n",
      "4  clg-student  \n",
      "5  clg-student  \n",
      "6  clg-student  \n",
      "7          NaN  \n"
     ]
    }
   ],
   "source": [
    "# add new rows\n",
    "row = {'name': 'Subin', 'address': 'Finland', 'college': 'CCRC'}\n",
    "! new_row_data = sql_data.append(row, ignore_index = True) #append only works in older vertions for DF object, use concat instead\n",
    "# To append, first convert the row to a 1-row DataFrame\n",
    "new_row_df = pd.DataFrame([row])\n",
    "# Concatenate with the original DataFrame\n",
    "new_row_data = pd.concat([sql_data, new_row_df], ignore_index=True) # ignore_index solves duplicated or misaligned indexes. Makes sure the new row fits nicely at the end\n",
    "print(new_row_data)\n"
   ]
  },
  {
   "cell_type": "code",
   "execution_count": 48,
   "id": "f0ecd657",
   "metadata": {},
   "outputs": [
    {
     "name": "stdout",
     "output_type": "stream",
     "text": [
      "    id    name    address       college   age gender faculty university  \\\n",
      "0  1.0     ram  kathmandu          ncit  18.0      m      IT         TU   \n",
      "1  2.0   shyam   lalitpur     islington  20.0      m    CSIT         KU   \n",
      "2  4.0    sita  kathmandu  ioe pulchowk  24.0      f      CE         KU   \n",
      "3  3.0    gita    pokhara          ncit  21.0      f      SE         KU   \n",
      "4  5.0    hari  kathmandu  ioe pulchowk  24.0      m   CIVIL         KU   \n",
      "5  6.0   madan    pokhara          ncit  21.0      f      SE         KU   \n",
      "6  7.0    maya  kathmandu     islington  24.0      f     BIT         KU   \n",
      "7  NaN  Bimala  Riihimaki          Kist   NaN    NaN     NaN        NaN   \n",
      "8  NaN  Bimala  Riihimaki          Kist   NaN    NaN     NaN        NaN   \n",
      "\n",
      "    occupation  \n",
      "0  clg-student  \n",
      "1  clg-student  \n",
      "2  clg-student  \n",
      "3  clg-student  \n",
      "4  clg-student  \n",
      "5  clg-student  \n",
      "6  clg-student  \n",
      "7          NaN  \n",
      "8          NaN  \n"
     ]
    }
   ],
   "source": [
    "# Add multiple rows at once\n",
    "new_rows = [\n",
    "    {'name': 'Bimala', 'address': 'Riihimaki', 'college': 'Kist'},\n",
    "    {'name': 'Bimala', 'address': 'Riihimaki', 'college': 'Kist'}\n",
    "    ]\n",
    "# Convert new rows to DataFrame and concatenate\n",
    "rows_updated = pd.concat([sql_data, pd.DataFrame(new_rows)], ignore_index=True)\n",
    "print(rows_updated)"
   ]
  },
  {
   "cell_type": "code",
   "execution_count": 49,
   "id": "fbb2a6c0",
   "metadata": {},
   "outputs": [
    {
     "name": "stdout",
     "output_type": "stream",
     "text": [
      "    id    name    address       college   age gender faculty university  \\\n",
      "0  1.0     ram  kathmandu          ncit  18.0      m      IT         TU   \n",
      "1  2.0   shyam   lalitpur     islington  20.0      m    CSIT         KU   \n",
      "2  4.0    sita  kathmandu  ioe pulchowk  24.0      f      CE         KU   \n",
      "3  3.0    gita    pokhara          ncit  21.0      f      SE         KU   \n",
      "4  5.0    hari  kathmandu  ioe pulchowk  24.0      m   CIVIL         KU   \n",
      "5  6.0   madan    pokhara          ncit  21.0      f      SE         KU   \n",
      "6  7.0    maya  kathmandu     islington  24.0      f     BIT         KU   \n",
      "7  NaN  Bimala  Riihimaki          Kist   NaN    NaN     NaN        NaN   \n",
      "\n",
      "    occupation  \n",
      "0  clg-student  \n",
      "1  clg-student  \n",
      "2  clg-student  \n",
      "3  clg-student  \n",
      "4  clg-student  \n",
      "5  clg-student  \n",
      "6  clg-student  \n",
      "7          NaN  \n"
     ]
    }
   ],
   "source": [
    "clean_rows = rows_updated.drop_duplicates(subset=['name']) # subset is name of the column from which we'd like to get rid of duplicates\n",
    "print(clean_rows)"
   ]
  }
 ],
 "metadata": {
  "kernelspec": {
   "display_name": "base",
   "language": "python",
   "name": "python3"
  },
  "language_info": {
   "codemirror_mode": {
    "name": "ipython",
    "version": 3
   },
   "file_extension": ".py",
   "mimetype": "text/x-python",
   "name": "python",
   "nbconvert_exporter": "python",
   "pygments_lexer": "ipython3",
   "version": "3.13.5"
  }
 },
 "nbformat": 4,
 "nbformat_minor": 5
}
